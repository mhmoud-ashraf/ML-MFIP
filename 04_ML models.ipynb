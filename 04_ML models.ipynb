{
 "cells": [
  {
   "cell_type": "code",
   "execution_count": 1,
   "metadata": {},
   "outputs": [],
   "source": [
    "import os\n",
    "import pandas as pd\n",
    "from joblib import dump\n",
    "from sklearn.model_selection import ShuffleSplit\n",
    "from sklearn.model_selection import RandomizedSearchCV\n",
    "from sklearn.tree import DecisionTreeRegressor\n",
    "from sklearn.ensemble import RandomForestRegressor\n",
    "from sklearn.metrics import r2_score"
   ]
  },
  {
   "cell_type": "code",
   "execution_count": 2,
   "metadata": {},
   "outputs": [],
   "source": [
    "parent_dir = os.path.dirname(os.getcwd())"
   ]
  },
  {
   "cell_type": "markdown",
   "metadata": {},
   "source": [
    "# Train data preparation"
   ]
  },
  {
   "cell_type": "code",
   "execution_count": 3,
   "metadata": {},
   "outputs": [],
   "source": [
    "# Initialize directories\n",
    "models_dir = os.path.join(parent_dir, \"Trained Models\")\n",
    "os.makedirs(models_dir, exist_ok=True)\n",
    "data_dir = os.path.join(parent_dir, \"Data\")"
   ]
  },
  {
   "cell_type": "code",
   "execution_count": 4,
   "metadata": {},
   "outputs": [
    {
     "data": {
      "text/html": [
       "<div>\n",
       "<style scoped>\n",
       "    .dataframe tbody tr th:only-of-type {\n",
       "        vertical-align: middle;\n",
       "    }\n",
       "\n",
       "    .dataframe tbody tr th {\n",
       "        vertical-align: top;\n",
       "    }\n",
       "\n",
       "    .dataframe thead th {\n",
       "        text-align: right;\n",
       "    }\n",
       "</style>\n",
       "<table border=\"1\" class=\"dataframe\">\n",
       "  <thead>\n",
       "    <tr style=\"text-align: right;\">\n",
       "      <th></th>\n",
       "      <th>id</th>\n",
       "      <th>k</th>\n",
       "      <th>arc</th>\n",
       "      <th>tail_in_degree</th>\n",
       "      <th>tail_out_degree</th>\n",
       "      <th>head_in_degree</th>\n",
       "      <th>head_out_degree</th>\n",
       "      <th>d_s</th>\n",
       "      <th>d_t</th>\n",
       "      <th>C_r</th>\n",
       "      <th>F_r</th>\n",
       "    </tr>\n",
       "  </thead>\n",
       "  <tbody>\n",
       "    <tr>\n",
       "      <th>0</th>\n",
       "      <td>1</td>\n",
       "      <td>1</td>\n",
       "      <td>(0,1)</td>\n",
       "      <td>1</td>\n",
       "      <td>5</td>\n",
       "      <td>1</td>\n",
       "      <td>2</td>\n",
       "      <td>0.0</td>\n",
       "      <td>1.0</td>\n",
       "      <td>0.75</td>\n",
       "      <td>21.126761</td>\n",
       "    </tr>\n",
       "    <tr>\n",
       "      <th>1</th>\n",
       "      <td>1</td>\n",
       "      <td>1</td>\n",
       "      <td>(0,2)</td>\n",
       "      <td>1</td>\n",
       "      <td>5</td>\n",
       "      <td>1</td>\n",
       "      <td>2</td>\n",
       "      <td>0.0</td>\n",
       "      <td>1.0</td>\n",
       "      <td>0.90</td>\n",
       "      <td>22.535211</td>\n",
       "    </tr>\n",
       "    <tr>\n",
       "      <th>2</th>\n",
       "      <td>1</td>\n",
       "      <td>1</td>\n",
       "      <td>(0,3)</td>\n",
       "      <td>1</td>\n",
       "      <td>5</td>\n",
       "      <td>1</td>\n",
       "      <td>2</td>\n",
       "      <td>0.0</td>\n",
       "      <td>1.0</td>\n",
       "      <td>0.75</td>\n",
       "      <td>21.126761</td>\n",
       "    </tr>\n",
       "    <tr>\n",
       "      <th>3</th>\n",
       "      <td>1</td>\n",
       "      <td>1</td>\n",
       "      <td>(0,4)</td>\n",
       "      <td>1</td>\n",
       "      <td>5</td>\n",
       "      <td>1</td>\n",
       "      <td>2</td>\n",
       "      <td>0.0</td>\n",
       "      <td>1.0</td>\n",
       "      <td>0.75</td>\n",
       "      <td>12.676056</td>\n",
       "    </tr>\n",
       "    <tr>\n",
       "      <th>4</th>\n",
       "      <td>1</td>\n",
       "      <td>1</td>\n",
       "      <td>(0,5)</td>\n",
       "      <td>1</td>\n",
       "      <td>5</td>\n",
       "      <td>1</td>\n",
       "      <td>2</td>\n",
       "      <td>0.0</td>\n",
       "      <td>1.0</td>\n",
       "      <td>0.85</td>\n",
       "      <td>22.535211</td>\n",
       "    </tr>\n",
       "  </tbody>\n",
       "</table>\n",
       "</div>"
      ],
      "text/plain": [
       "   id  k    arc  tail_in_degree  tail_out_degree  head_in_degree  \\\n",
       "0   1  1  (0,1)               1                5               1   \n",
       "1   1  1  (0,2)               1                5               1   \n",
       "2   1  1  (0,3)               1                5               1   \n",
       "3   1  1  (0,4)               1                5               1   \n",
       "4   1  1  (0,5)               1                5               1   \n",
       "\n",
       "   head_out_degree  d_s  d_t   C_r        F_r  \n",
       "0                2  0.0  1.0  0.75  21.126761  \n",
       "1                2  0.0  1.0  0.90  22.535211  \n",
       "2                2  0.0  1.0  0.75  21.126761  \n",
       "3                2  0.0  1.0  0.75  12.676056  \n",
       "4                2  0.0  1.0  0.85  22.535211  "
      ]
     },
     "execution_count": 4,
     "metadata": {},
     "output_type": "execute_result"
    }
   ],
   "source": [
    "# Load train data set\n",
    "train_df = pd.read_csv(os.path.join(data_dir, \"train.csv\"))\n",
    "train_df.head()"
   ]
  },
  {
   "cell_type": "code",
   "execution_count": 5,
   "metadata": {},
   "outputs": [],
   "source": [
    "# Drop the first three columns (id, k, and arc)\n",
    "train = train_df.drop(columns=[\"id\", \"k\", \"arc\"])"
   ]
  },
  {
   "cell_type": "code",
   "execution_count": 6,
   "metadata": {},
   "outputs": [
    {
     "name": "stdout",
     "output_type": "stream",
     "text": [
      "Sizes: data set (2016, 8), train set (1512, 8), test set (504, 8)\n"
     ]
    }
   ],
   "source": [
    "# Split data into 75% train and 25% test\n",
    "rs = ShuffleSplit(n_splits=1, test_size=.25, random_state=0)\n",
    "for train_index, test_index in rs.split(train):\n",
    "    train_set = train.loc[train_index]\n",
    "    test_set = train.loc[test_index]\n",
    "print(f\"Sizes: data set {train.shape}, train set {train_set.shape}, test set {test_set.shape}\")"
   ]
  },
  {
   "cell_type": "code",
   "execution_count": 7,
   "metadata": {},
   "outputs": [],
   "source": [
    "# Determine the predictors and target\n",
    "X_train = train_set.drop(columns=[\"F_r\"])\n",
    "y_train = train_set[\"F_r\"]\n",
    "X_test = test_set.drop(columns=[\"F_r\"])\n",
    "y_test = test_set[\"F_r\"]"
   ]
  },
  {
   "cell_type": "markdown",
   "metadata": {},
   "source": [
    "# Decision tree model"
   ]
  },
  {
   "cell_type": "code",
   "execution_count": 8,
   "metadata": {},
   "outputs": [
    {
     "name": "stdout",
     "output_type": "stream",
     "text": [
      "Best hyperparameters: 4\n"
     ]
    }
   ],
   "source": [
    "# Use random search to find the best hyperparameters for the decision tree\n",
    "param_dist = {\"max_depth\": range(1, 21)}\n",
    "tree = DecisionTreeRegressor()\n",
    "tree_cv = RandomizedSearchCV(tree, param_dist, cv=5, n_iter=20, random_state=0)\n",
    "tree_cv.fit(X_train, y_train)\n",
    "print(f\"Best hyperparameters: {tree_cv.best_params_['max_depth']}\")"
   ]
  },
  {
   "cell_type": "code",
   "execution_count": 9,
   "metadata": {},
   "outputs": [
    {
     "name": "stdout",
     "output_type": "stream",
     "text": [
      "Decision Tree R2: 0.7306780230126633\n"
     ]
    }
   ],
   "source": [
    "# Construct the decision tree model\n",
    "dt = DecisionTreeRegressor(random_state=0, max_depth=tree_cv.best_params_['max_depth'])\n",
    "dt.fit(X_train, y_train)\n",
    "y_pred = dt.predict(X_test)\n",
    "r2 = r2_score(y_test, y_pred)\n",
    "print(f\"Decision Tree R2: {r2}\")"
   ]
  },
  {
   "cell_type": "code",
   "execution_count": 10,
   "metadata": {},
   "outputs": [
    {
     "data": {
      "text/plain": [
       "['c:\\\\Users\\\\mashr\\\\OneDrive - University of Pittsburgh\\\\GitHub\\\\IE2164\\\\Trained Models\\\\dt.joblib']"
      ]
     },
     "execution_count": 10,
     "metadata": {},
     "output_type": "execute_result"
    }
   ],
   "source": [
    "# Save the decision tree model\n",
    "model_path = os.path.join(models_dir, \"dt.joblib\")\n",
    "dump(dt, model_path)"
   ]
  },
  {
   "cell_type": "markdown",
   "metadata": {},
   "source": [
    "# Random forest model"
   ]
  },
  {
   "cell_type": "code",
   "execution_count": 11,
   "metadata": {},
   "outputs": [
    {
     "name": "stdout",
     "output_type": "stream",
     "text": [
      "Best hyperparameters: 4\n"
     ]
    }
   ],
   "source": [
    "# Use random search to find the best hyperparameters for the random forest\n",
    "param_dist = {\"max_depth\": range(1, 21)}\n",
    "rf = RandomForestRegressor()\n",
    "rf_cv = RandomizedSearchCV(rf, param_dist, cv=5, n_iter=20, random_state=0)\n",
    "rf_cv.fit(X_train, y_train)\n",
    "print(f\"Best hyperparameters: {rf_cv.best_params_['max_depth']}\")"
   ]
  },
  {
   "cell_type": "code",
   "execution_count": 12,
   "metadata": {},
   "outputs": [
    {
     "name": "stdout",
     "output_type": "stream",
     "text": [
      "Random Forest R2: 0.7475821662831181\n"
     ]
    }
   ],
   "source": [
    "# Construct the random forest model\n",
    "rf = RandomForestRegressor(random_state=0, max_depth=rf_cv.best_params_['max_depth'])\n",
    "rf.fit(X_train, y_train)\n",
    "y_pred = rf.predict(X_test)\n",
    "r2 = r2_score(y_test, y_pred)\n",
    "print(f\"Random Forest R2: {r2}\")"
   ]
  },
  {
   "cell_type": "code",
   "execution_count": 13,
   "metadata": {},
   "outputs": [
    {
     "data": {
      "text/plain": [
       "['c:\\\\Users\\\\mashr\\\\OneDrive - University of Pittsburgh\\\\GitHub\\\\IE2164\\\\Trained Models\\\\rf.joblib']"
      ]
     },
     "execution_count": 13,
     "metadata": {},
     "output_type": "execute_result"
    }
   ],
   "source": [
    "# Save the random forest model\n",
    "model_path = os.path.join(models_dir, \"rf.joblib\")\n",
    "dump(rf, model_path)"
   ]
  },
  {
   "cell_type": "code",
   "execution_count": null,
   "metadata": {},
   "outputs": [],
   "source": []
  },
  {
   "cell_type": "code",
   "execution_count": null,
   "metadata": {},
   "outputs": [],
   "source": []
  }
 ],
 "metadata": {
  "kernelspec": {
   "display_name": "py-tf",
   "language": "python",
   "name": "python3"
  },
  "language_info": {
   "codemirror_mode": {
    "name": "ipython",
    "version": 3
   },
   "file_extension": ".py",
   "mimetype": "text/x-python",
   "name": "python",
   "nbconvert_exporter": "python",
   "pygments_lexer": "ipython3",
   "version": "3.9.17"
  }
 },
 "nbformat": 4,
 "nbformat_minor": 2
}
