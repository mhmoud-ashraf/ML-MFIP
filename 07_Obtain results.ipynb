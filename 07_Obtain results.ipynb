{
 "cells": [
  {
   "cell_type": "code",
   "execution_count": 84,
   "metadata": {},
   "outputs": [],
   "source": [
    "import os\n",
    "import pandas as pd\n",
    "from tqdm import tqdm"
   ]
  },
  {
   "cell_type": "code",
   "execution_count": 85,
   "metadata": {},
   "outputs": [],
   "source": [
    "from GurobiSolver import *"
   ]
  },
  {
   "cell_type": "code",
   "execution_count": 86,
   "metadata": {},
   "outputs": [],
   "source": [
    "parent_dir = os.path.dirname(os.getcwd())\n",
    "os.makedirs(parent_dir + '/Results', exist_ok=True)"
   ]
  },
  {
   "cell_type": "markdown",
   "metadata": {},
   "source": [
    "# Train data sets"
   ]
  },
  {
   "cell_type": "markdown",
   "metadata": {},
   "source": [
    "## Networks data"
   ]
  },
  {
   "cell_type": "code",
   "execution_count": 87,
   "metadata": {},
   "outputs": [
    {
     "data": {
      "text/html": [
       "<div>\n",
       "<style scoped>\n",
       "    .dataframe tbody tr th:only-of-type {\n",
       "        vertical-align: middle;\n",
       "    }\n",
       "\n",
       "    .dataframe tbody tr th {\n",
       "        vertical-align: top;\n",
       "    }\n",
       "\n",
       "    .dataframe thead th {\n",
       "        text-align: right;\n",
       "    }\n",
       "</style>\n",
       "<table border=\"1\" class=\"dataframe\">\n",
       "  <thead>\n",
       "    <tr style=\"text-align: right;\">\n",
       "      <th></th>\n",
       "      <th>id</th>\n",
       "      <th>k</th>\n",
       "      <th>|N|</th>\n",
       "      <th>|A|</th>\n",
       "      <th>Level 0</th>\n",
       "      <th>Level 1</th>\n",
       "      <th>Level 2</th>\n",
       "      <th>Level 3</th>\n",
       "      <th>Level 4</th>\n",
       "    </tr>\n",
       "  </thead>\n",
       "  <tbody>\n",
       "    <tr>\n",
       "      <th>0</th>\n",
       "      <td>1</td>\n",
       "      <td>1</td>\n",
       "      <td>42</td>\n",
       "      <td>65</td>\n",
       "      <td>1</td>\n",
       "      <td>5</td>\n",
       "      <td>10</td>\n",
       "      <td>25</td>\n",
       "      <td>1</td>\n",
       "    </tr>\n",
       "    <tr>\n",
       "      <th>1</th>\n",
       "      <td>1</td>\n",
       "      <td>2</td>\n",
       "      <td>42</td>\n",
       "      <td>65</td>\n",
       "      <td>1</td>\n",
       "      <td>5</td>\n",
       "      <td>10</td>\n",
       "      <td>25</td>\n",
       "      <td>1</td>\n",
       "    </tr>\n",
       "    <tr>\n",
       "      <th>2</th>\n",
       "      <td>1</td>\n",
       "      <td>3</td>\n",
       "      <td>42</td>\n",
       "      <td>65</td>\n",
       "      <td>1</td>\n",
       "      <td>5</td>\n",
       "      <td>10</td>\n",
       "      <td>25</td>\n",
       "      <td>1</td>\n",
       "    </tr>\n",
       "    <tr>\n",
       "      <th>3</th>\n",
       "      <td>1</td>\n",
       "      <td>4</td>\n",
       "      <td>42</td>\n",
       "      <td>65</td>\n",
       "      <td>1</td>\n",
       "      <td>5</td>\n",
       "      <td>10</td>\n",
       "      <td>25</td>\n",
       "      <td>1</td>\n",
       "    </tr>\n",
       "    <tr>\n",
       "      <th>4</th>\n",
       "      <td>1</td>\n",
       "      <td>5</td>\n",
       "      <td>42</td>\n",
       "      <td>65</td>\n",
       "      <td>1</td>\n",
       "      <td>5</td>\n",
       "      <td>10</td>\n",
       "      <td>25</td>\n",
       "      <td>1</td>\n",
       "    </tr>\n",
       "  </tbody>\n",
       "</table>\n",
       "</div>"
      ],
      "text/plain": [
       "   id  k  |N|  |A|  Level 0  Level 1  Level 2  Level 3  Level 4\n",
       "0   1  1   42   65        1        5       10       25        1\n",
       "1   1  2   42   65        1        5       10       25        1\n",
       "2   1  3   42   65        1        5       10       25        1\n",
       "3   1  4   42   65        1        5       10       25        1\n",
       "4   1  5   42   65        1        5       10       25        1"
      ]
     },
     "execution_count": 87,
     "metadata": {},
     "output_type": "execute_result"
    }
   ],
   "source": [
    "# Load the networks details\n",
    "tr_net_df = pd.read_csv(\"Results/TrainNetworksDetails.csv\")\n",
    "tr_net_df.head()"
   ]
  },
  {
   "cell_type": "markdown",
   "metadata": {},
   "source": [
    "## Decision tree model"
   ]
  },
  {
   "cell_type": "code",
   "execution_count": 88,
   "metadata": {},
   "outputs": [],
   "source": [
    "# # Initialize directories\n",
    "# data = \"Train\"\n",
    "# ml_alg = \"dt\"\n",
    "# network_dir = os.path.join(parent_dir, \"Networks\", data)\n",
    "# predictions_dir = os.path.join(parent_dir, \"Predictions\", ml_alg, data)\n",
    "# models_dir = os.path.join(parent_dir, \"Models-ml\", ml_alg, data)\n",
    "# os.makedirs(models_dir, exist_ok=True)"
   ]
  },
  {
   "cell_type": "markdown",
   "metadata": {},
   "source": [
    "## Random forest model"
   ]
  },
  {
   "cell_type": "code",
   "execution_count": 89,
   "metadata": {},
   "outputs": [],
   "source": [
    "# # Initialize directories\n",
    "# data = \"Train\"\n",
    "# ml_alg = \"rf\"\n",
    "# network_dir = os.path.join(parent_dir, \"Networks\", data)\n",
    "# predictions_dir = os.path.join(parent_dir, \"Predictions\", ml_alg, data)\n",
    "# models_dir = os.path.join(parent_dir, \"Models-ml\", ml_alg, data)\n",
    "# os.makedirs(models_dir, exist_ok=True)"
   ]
  },
  {
   "cell_type": "markdown",
   "metadata": {},
   "source": [
    "# Test data sets"
   ]
  },
  {
   "cell_type": "markdown",
   "metadata": {},
   "source": [
    "## Small networks"
   ]
  },
  {
   "cell_type": "code",
   "execution_count": 90,
   "metadata": {},
   "outputs": [
    {
     "data": {
      "text/html": [
       "<div>\n",
       "<style scoped>\n",
       "    .dataframe tbody tr th:only-of-type {\n",
       "        vertical-align: middle;\n",
       "    }\n",
       "\n",
       "    .dataframe tbody tr th {\n",
       "        vertical-align: top;\n",
       "    }\n",
       "\n",
       "    .dataframe thead th {\n",
       "        text-align: right;\n",
       "    }\n",
       "</style>\n",
       "<table border=\"1\" class=\"dataframe\">\n",
       "  <thead>\n",
       "    <tr style=\"text-align: right;\">\n",
       "      <th></th>\n",
       "      <th>id</th>\n",
       "      <th>k</th>\n",
       "      <th>|N|</th>\n",
       "      <th>|A|</th>\n",
       "      <th>Level 0</th>\n",
       "      <th>Level 1</th>\n",
       "      <th>Level 2</th>\n",
       "      <th>Level 3</th>\n",
       "      <th>Level 4</th>\n",
       "      <th>Level 5</th>\n",
       "    </tr>\n",
       "  </thead>\n",
       "  <tbody>\n",
       "    <tr>\n",
       "      <th>0</th>\n",
       "      <td>1</td>\n",
       "      <td>1</td>\n",
       "      <td>42</td>\n",
       "      <td>66</td>\n",
       "      <td>1</td>\n",
       "      <td>5</td>\n",
       "      <td>10</td>\n",
       "      <td>25</td>\n",
       "      <td>1</td>\n",
       "      <td>-</td>\n",
       "    </tr>\n",
       "    <tr>\n",
       "      <th>1</th>\n",
       "      <td>1</td>\n",
       "      <td>2</td>\n",
       "      <td>42</td>\n",
       "      <td>66</td>\n",
       "      <td>1</td>\n",
       "      <td>5</td>\n",
       "      <td>10</td>\n",
       "      <td>25</td>\n",
       "      <td>1</td>\n",
       "      <td>-</td>\n",
       "    </tr>\n",
       "    <tr>\n",
       "      <th>2</th>\n",
       "      <td>1</td>\n",
       "      <td>3</td>\n",
       "      <td>42</td>\n",
       "      <td>65</td>\n",
       "      <td>1</td>\n",
       "      <td>5</td>\n",
       "      <td>10</td>\n",
       "      <td>25</td>\n",
       "      <td>1</td>\n",
       "      <td>-</td>\n",
       "    </tr>\n",
       "    <tr>\n",
       "      <th>3</th>\n",
       "      <td>1</td>\n",
       "      <td>4</td>\n",
       "      <td>42</td>\n",
       "      <td>65</td>\n",
       "      <td>1</td>\n",
       "      <td>5</td>\n",
       "      <td>10</td>\n",
       "      <td>25</td>\n",
       "      <td>1</td>\n",
       "      <td>-</td>\n",
       "    </tr>\n",
       "    <tr>\n",
       "      <th>4</th>\n",
       "      <td>1</td>\n",
       "      <td>5</td>\n",
       "      <td>42</td>\n",
       "      <td>65</td>\n",
       "      <td>1</td>\n",
       "      <td>5</td>\n",
       "      <td>10</td>\n",
       "      <td>25</td>\n",
       "      <td>1</td>\n",
       "      <td>-</td>\n",
       "    </tr>\n",
       "  </tbody>\n",
       "</table>\n",
       "</div>"
      ],
      "text/plain": [
       "   id  k  |N|  |A|  Level 0  Level 1  Level 2  Level 3  Level 4 Level 5\n",
       "0   1  1   42   66        1        5       10       25        1       -\n",
       "1   1  2   42   66        1        5       10       25        1       -\n",
       "2   1  3   42   65        1        5       10       25        1       -\n",
       "3   1  4   42   65        1        5       10       25        1       -\n",
       "4   1  5   42   65        1        5       10       25        1       -"
      ]
     },
     "execution_count": 90,
     "metadata": {},
     "output_type": "execute_result"
    }
   ],
   "source": [
    "# Load the small networks details\n",
    "st_net_df = pd.read_csv(\"Results/SmallTestNetworksDetails.csv\")\n",
    "st_net_df.head()"
   ]
  },
  {
   "cell_type": "code",
   "execution_count": 91,
   "metadata": {},
   "outputs": [],
   "source": [
    "# Initialize directories\n",
    "data = \"Test\"\n",
    "opt_models_dir = os.path.join(parent_dir, \"Models-gp\", data)\n",
    "dt_models_dir = os.path.join(parent_dir, \"Models-ml\", \"dt\", data)\n",
    "rf_models_dir = os.path.join(parent_dir, \"Models-ml\", \"rf\", data)"
   ]
  },
  {
   "cell_type": "markdown",
   "metadata": {},
   "source": [
    "### Arc interdiction costs are set to 1"
   ]
  },
  {
   "cell_type": "code",
   "execution_count": 92,
   "metadata": {},
   "outputs": [],
   "source": [
    "tag = \"U\""
   ]
  },
  {
   "cell_type": "code",
   "execution_count": 93,
   "metadata": {},
   "outputs": [],
   "source": [
    "# Interdiction budget\n",
    "small_uc_B = [i for i in range(1, 9+1)]"
   ]
  },
  {
   "cell_type": "code",
   "execution_count": 94,
   "metadata": {},
   "outputs": [
    {
     "name": "stderr",
     "output_type": "stream",
     "text": [
      "50it [00:02, 22.23it/s]\n"
     ]
    }
   ],
   "source": [
    "# Results for the small networks with unit costs\n",
    "cols = [\"id\", \"k\", f\"B_{tag}\", f\"Opt_{tag}\", f\"ObjVal_dt_{tag}\", f\"ObjVal_rf_{tag}\"]\n",
    "vals = []\n",
    "for id, k in tqdm(zip(st_net_df[\"id\"], st_net_df[\"k\"])):\n",
    "    name = f\"network_{id}_{k}\"\n",
    "    for B in small_uc_B:\n",
    "        # Set models directory\n",
    "        # Optimal model\n",
    "        opt_model_dir = os.path.join(opt_models_dir, f\"Model_{B}{tag}\")\n",
    "        opt_obj = load_json(name, opt_model_dir)[\"ObjVal\"]\n",
    "        # Decision tree model\n",
    "        dt_model_dir = os.path.join(dt_models_dir, f\"Model_{B}{tag}\")\n",
    "        dt_obj = load_json(name, dt_model_dir)[\"ObjVal\"]\n",
    "        # Random forest model\n",
    "        rf_model_dir = os.path.join(rf_models_dir, f\"Model_{B}{tag}\")\n",
    "        rf_obj = load_json(name, rf_model_dir)[\"ObjVal\"]\n",
    "        # Append results\n",
    "        vals.append([id, k, B, opt_obj, dt_obj, rf_obj])\n",
    "u_small_df = pd.DataFrame(vals, columns=cols)\n",
    "u_small_df = u_small_df.sort_values(by=[\"id\", f\"B_{tag}\", \"k\"])\n",
    "u_small_df[f\"Gap_dt_{tag}\"] = (u_small_df[f\"ObjVal_dt_{tag}\"] - u_small_df[f\"Opt_{tag}\"]) / u_small_df[f\"Opt_{tag}\"] * 100\n",
    "u_small_df[f\"Gap_rf_{tag}\"] = (u_small_df[f\"ObjVal_rf_{tag}\"] - u_small_df[f\"Opt_{tag}\"]) / u_small_df[f\"Opt_{tag}\"] * 100\n",
    "u_small_df.round(2).to_csv(f\"Results/SmallTestResults_{tag}.csv\", index=False)"
   ]
  },
  {
   "cell_type": "markdown",
   "metadata": {},
   "source": [
    "### Arc interdiction costs are greater that or equal to 1"
   ]
  },
  {
   "cell_type": "code",
   "execution_count": 95,
   "metadata": {},
   "outputs": [],
   "source": [
    "tag = \"\""
   ]
  },
  {
   "cell_type": "code",
   "execution_count": 96,
   "metadata": {},
   "outputs": [],
   "source": [
    "# Interdiction budget\n",
    "small_B = [5, 10, 20, 30, 40, 80, 120, 150, 200]"
   ]
  },
  {
   "cell_type": "code",
   "execution_count": 97,
   "metadata": {},
   "outputs": [
    {
     "name": "stderr",
     "output_type": "stream",
     "text": [
      "50it [00:03, 12.79it/s]\n"
     ]
    }
   ],
   "source": [
    "# Results for the small networks with costs greater than or equal to 1\n",
    "cols = [\"id\", \"k\", f\"B_{tag}\", f\"Opt_{tag}\", f\"ObjVal_dt_{tag}\", f\"ObjVal_rf_{tag}\"]\n",
    "vals = []\n",
    "for id, k in tqdm(zip(st_net_df[\"id\"], st_net_df[\"k\"])):\n",
    "    name = f\"network_{id}_{k}\"\n",
    "    for B in small_B:\n",
    "        # Set models directory\n",
    "        # Optimal model\n",
    "        opt_model_dir = os.path.join(opt_models_dir, f\"Model_{B}{tag}\")\n",
    "        opt_obj = load_json(name, opt_model_dir)[\"ObjVal\"]\n",
    "        # Decision tree model\n",
    "        dt_model_dir = os.path.join(dt_models_dir, f\"Model_{B}{tag}\")\n",
    "        dt_obj = load_json(name, dt_model_dir)[\"ObjVal\"]\n",
    "        # Random forest model\n",
    "        rf_model_dir = os.path.join(rf_models_dir, f\"Model_{B}{tag}\")\n",
    "        rf_obj = load_json(name, rf_model_dir)[\"ObjVal\"]\n",
    "        # Append results\n",
    "        vals.append([id, k, B, opt_obj, dt_obj, rf_obj])\n",
    "small_df = pd.DataFrame(vals, columns=cols)\n",
    "small_df = small_df.sort_values(by=[\"id\", f\"B_{tag}\", \"k\"])\n",
    "small_df[f\"Gap_dt_{tag}\"] = (small_df[f\"ObjVal_dt_{tag}\"] - small_df[f\"Opt_{tag}\"]) / small_df[f\"Opt_{tag}\"] * 100\n",
    "small_df[f\"Gap_rf_{tag}\"] = (small_df[f\"ObjVal_rf_{tag}\"] - small_df[f\"Opt_{tag}\"]) / small_df[f\"Opt_{tag}\"] * 100\n",
    "small_df.round(2).to_csv(f\"Results/SmallTestResults_{tag}.csv\", index=False)"
   ]
  },
  {
   "cell_type": "markdown",
   "metadata": {},
   "source": [
    "## Large networks"
   ]
  },
  {
   "cell_type": "code",
   "execution_count": 98,
   "metadata": {},
   "outputs": [
    {
     "data": {
      "text/html": [
       "<div>\n",
       "<style scoped>\n",
       "    .dataframe tbody tr th:only-of-type {\n",
       "        vertical-align: middle;\n",
       "    }\n",
       "\n",
       "    .dataframe tbody tr th {\n",
       "        vertical-align: top;\n",
       "    }\n",
       "\n",
       "    .dataframe thead th {\n",
       "        text-align: right;\n",
       "    }\n",
       "</style>\n",
       "<table border=\"1\" class=\"dataframe\">\n",
       "  <thead>\n",
       "    <tr style=\"text-align: right;\">\n",
       "      <th></th>\n",
       "      <th>id</th>\n",
       "      <th>k</th>\n",
       "      <th>|N|</th>\n",
       "      <th>|A|</th>\n",
       "      <th>Level 0</th>\n",
       "      <th>Level 1</th>\n",
       "      <th>Level 2</th>\n",
       "      <th>Level 3</th>\n",
       "      <th>Level 4</th>\n",
       "      <th>Level 5</th>\n",
       "      <th>Level 6</th>\n",
       "      <th>Level 7</th>\n",
       "      <th>Level 8</th>\n",
       "      <th>Level 9</th>\n",
       "      <th>Level 10</th>\n",
       "    </tr>\n",
       "  </thead>\n",
       "  <tbody>\n",
       "    <tr>\n",
       "      <th>0</th>\n",
       "      <td>6</td>\n",
       "      <td>1</td>\n",
       "      <td>29002</td>\n",
       "      <td>39897</td>\n",
       "      <td>[1/(50, 100)/(100, 101)]</td>\n",
       "      <td>[1000/(1, 75)/(1, 75)]</td>\n",
       "      <td>[1500/(1, 50)/(1, 50)]</td>\n",
       "      <td>[1500/(1, 40)/(1, 40)]</td>\n",
       "      <td>[2000/(1, 40)/(1, 40)]</td>\n",
       "      <td>[2500/(1, 30)/(1, 30)]</td>\n",
       "      <td>[2500/(1, 30)/(1, 30)]</td>\n",
       "      <td>[3000/(1, 20)/(1, 20)]</td>\n",
       "      <td>[5000/(1, 20)/(1, 20)]</td>\n",
       "      <td>[10000/(50, 100)/(100, 101)]</td>\n",
       "      <td>[1/-/-]</td>\n",
       "    </tr>\n",
       "    <tr>\n",
       "      <th>1</th>\n",
       "      <td>7</td>\n",
       "      <td>1</td>\n",
       "      <td>56502</td>\n",
       "      <td>73459</td>\n",
       "      <td>[1/(50, 100)/(100, 101)]</td>\n",
       "      <td>[2500/(1, 75)/(1, 75)]</td>\n",
       "      <td>[3000/(1, 50)/(1, 50)]</td>\n",
       "      <td>[3000/(1, 40)/(1, 40)]</td>\n",
       "      <td>[4500/(1, 40)/(1, 40)]</td>\n",
       "      <td>[4500/(1, 30)/(1, 30)]</td>\n",
       "      <td>[7000/(1, 30)/(1, 30)]</td>\n",
       "      <td>[7000/(1, 20)/(1, 20)]</td>\n",
       "      <td>[10000/(1, 20)/(1, 20)]</td>\n",
       "      <td>[15000/(50, 100)/(100, 101)]</td>\n",
       "      <td>[1/-/-]</td>\n",
       "    </tr>\n",
       "    <tr>\n",
       "      <th>2</th>\n",
       "      <td>8</td>\n",
       "      <td>1</td>\n",
       "      <td>56502</td>\n",
       "      <td>73459</td>\n",
       "      <td>[1/(50, 100)/(100, 101)]</td>\n",
       "      <td>[2500/(1, 75)/(1, 75)]</td>\n",
       "      <td>[3000/(1, 50)/(1, 50)]</td>\n",
       "      <td>[3000/(1, 40)/(1, 40)]</td>\n",
       "      <td>[4500/(1, 40)/(1, 40)]</td>\n",
       "      <td>[4500/(1, 30)/(1, 30)]</td>\n",
       "      <td>[7000/(1, 30)/(1, 30)]</td>\n",
       "      <td>[7000/(1, 20)/(1, 20)]</td>\n",
       "      <td>[10000/(1, 20)/(1, 20)]</td>\n",
       "      <td>[15000/(50, 100)/(100, 101)]</td>\n",
       "      <td>[1/-/-]</td>\n",
       "    </tr>\n",
       "  </tbody>\n",
       "</table>\n",
       "</div>"
      ],
      "text/plain": [
       "   id  k    |N|    |A|                   Level 0                 Level 1  \\\n",
       "0   6  1  29002  39897  [1/(50, 100)/(100, 101)]  [1000/(1, 75)/(1, 75)]   \n",
       "1   7  1  56502  73459  [1/(50, 100)/(100, 101)]  [2500/(1, 75)/(1, 75)]   \n",
       "2   8  1  56502  73459  [1/(50, 100)/(100, 101)]  [2500/(1, 75)/(1, 75)]   \n",
       "\n",
       "                  Level 2                 Level 3                 Level 4  \\\n",
       "0  [1500/(1, 50)/(1, 50)]  [1500/(1, 40)/(1, 40)]  [2000/(1, 40)/(1, 40)]   \n",
       "1  [3000/(1, 50)/(1, 50)]  [3000/(1, 40)/(1, 40)]  [4500/(1, 40)/(1, 40)]   \n",
       "2  [3000/(1, 50)/(1, 50)]  [3000/(1, 40)/(1, 40)]  [4500/(1, 40)/(1, 40)]   \n",
       "\n",
       "                  Level 5                 Level 6                 Level 7  \\\n",
       "0  [2500/(1, 30)/(1, 30)]  [2500/(1, 30)/(1, 30)]  [3000/(1, 20)/(1, 20)]   \n",
       "1  [4500/(1, 30)/(1, 30)]  [7000/(1, 30)/(1, 30)]  [7000/(1, 20)/(1, 20)]   \n",
       "2  [4500/(1, 30)/(1, 30)]  [7000/(1, 30)/(1, 30)]  [7000/(1, 20)/(1, 20)]   \n",
       "\n",
       "                   Level 8                       Level 9 Level 10  \n",
       "0   [5000/(1, 20)/(1, 20)]  [10000/(50, 100)/(100, 101)]  [1/-/-]  \n",
       "1  [10000/(1, 20)/(1, 20)]  [15000/(50, 100)/(100, 101)]  [1/-/-]  \n",
       "2  [10000/(1, 20)/(1, 20)]  [15000/(50, 100)/(100, 101)]  [1/-/-]  "
      ]
     },
     "execution_count": 98,
     "metadata": {},
     "output_type": "execute_result"
    }
   ],
   "source": [
    "# Load the large networks details\n",
    "# At each level of the network, the number of nodes, flow capacity range, and interdiction cost range are specified in a respective order.\n",
    "lt_net_df = pd.read_csv(\"Results/LargeTestNetworksDetails.csv\")\n",
    "lt_net_df.head()"
   ]
  },
  {
   "cell_type": "code",
   "execution_count": 99,
   "metadata": {},
   "outputs": [],
   "source": [
    "# Initialize directories\n",
    "data = \"Test\"\n",
    "opt_models_dir = os.path.join(parent_dir, \"Models-gp\", data)\n",
    "dt_models_dir = os.path.join(parent_dir, \"Models-ml\", \"dt\", data)\n",
    "rf_models_dir = os.path.join(parent_dir, \"Models-ml\", \"rf\", data)"
   ]
  },
  {
   "cell_type": "markdown",
   "metadata": {},
   "source": [
    "### Arc interdiction costs are set to 1"
   ]
  },
  {
   "cell_type": "code",
   "execution_count": 100,
   "metadata": {},
   "outputs": [],
   "source": [
    "unit_cost = True\n",
    "tag = \"U\""
   ]
  },
  {
   "cell_type": "code",
   "execution_count": 101,
   "metadata": {},
   "outputs": [],
   "source": [
    "# Interdiction budget\n",
    "large_uc_B = [1, 10, 50, 100, 500, 1000, 2000, 2500, 3000]"
   ]
  },
  {
   "cell_type": "code",
   "execution_count": 102,
   "metadata": {},
   "outputs": [
    {
     "name": "stderr",
     "output_type": "stream",
     "text": [
      "3it [00:04,  1.36s/it]\n"
     ]
    }
   ],
   "source": [
    "# Results for the large networks with unit costs\n",
    "cols = [\"id\", \"k\", f\"B_{tag}\", f\"Opt_{tag}\", f\"Opt_T_{tag}\", f\"ObjVal_dt_{tag}\", f\"dt_T_{tag}\", f\"ObjVal_rf_{tag}\", f\"rf_T_{tag}\"]\n",
    "vals = []\n",
    "for id, k in tqdm(zip(lt_net_df[\"id\"], lt_net_df[\"k\"])):\n",
    "    name = f\"network_{id}_{k}\"\n",
    "    for B in large_uc_B:\n",
    "        # Set models directory\n",
    "        # Optimal model\n",
    "        opt_model_dir = os.path.join(opt_models_dir, f\"Model_{B}{tag}\")\n",
    "        opt_json = load_json(name, opt_model_dir)\n",
    "        opt_obj = opt_json[\"ObjVal\"]\n",
    "        opt_time = opt_json[\"Runtime\"]\n",
    "        # Decision tree model\n",
    "        dt_model_dir = os.path.join(dt_models_dir, f\"Model_{B}{tag}\")\n",
    "        dt_json = load_json(name, dt_model_dir)\n",
    "        dt_obj = dt_json[\"ObjVal\"]\n",
    "        dt_time = dt_json[\"Runtime\"]\n",
    "        # Random forest model\n",
    "        rf_model_dir = os.path.join(rf_models_dir, f\"Model_{B}{tag}\")\n",
    "        rf_json = load_json(name, rf_model_dir)\n",
    "        rf_obj = rf_json[\"ObjVal\"]\n",
    "        rf_time = rf_json[\"Runtime\"]\n",
    "        # Append results\n",
    "        vals.append([id, k, B, opt_obj, opt_time, dt_obj, dt_time, rf_obj, rf_time])\n",
    "u_large_df = pd.DataFrame(vals, columns=cols)\n",
    "u_large_df = u_large_df.sort_values(by=[\"id\", f\"B_{tag}\", \"k\"])\n",
    "u_large_df[f\"Opt_{tag}\"] = u_large_df[f\"Opt_{tag}\"].replace(0, None) # Replace zero values with a NaN to avoid division by zero\n",
    "u_large_df[f\"Gap_dt_{tag}\"] = (u_large_df[f\"ObjVal_dt_{tag}\"] - u_large_df[f\"Opt_{tag}\"]) / u_large_df[f\"Opt_{tag}\"] * 100\n",
    "u_large_df[f\"Gap_rf_{tag}\"] = (u_large_df[f\"ObjVal_rf_{tag}\"] - u_large_df[f\"Opt_{tag}\"]) / u_large_df[f\"Opt_{tag}\"] * 100\n",
    "u_large_df.round(2).to_csv(f\"Results/LargeTestResults_{tag}.csv\", index=False)"
   ]
  },
  {
   "cell_type": "markdown",
   "metadata": {},
   "source": [
    "### Arc interdiction costs are greater that or equal to 1"
   ]
  },
  {
   "cell_type": "code",
   "execution_count": 103,
   "metadata": {},
   "outputs": [],
   "source": [
    "unit_cost = False\n",
    "tag = \"\""
   ]
  },
  {
   "cell_type": "code",
   "execution_count": 104,
   "metadata": {},
   "outputs": [],
   "source": [
    "# Interdiction budget\n",
    "large_B = [5, 100, 200, 500, 1000, 2000, 3000, 4000, 5000, 7500, 10000, 15000, 20000]"
   ]
  },
  {
   "cell_type": "code",
   "execution_count": 105,
   "metadata": {},
   "outputs": [
    {
     "name": "stderr",
     "output_type": "stream",
     "text": [
      "3it [00:07,  2.40s/it]\n"
     ]
    }
   ],
   "source": [
    "# Results for the large networks with costs greater than or equal to 1\n",
    "cols = [\"id\", \"k\", f\"B_{tag}\", f\"Opt_{tag}\", f\"Opt_T_{tag}\", f\"ObjVal_dt_{tag}\", f\"dt_T_{tag}\", f\"ObjVal_rf_{tag}\", f\"rf_T_{tag}\"]\n",
    "vals = []\n",
    "for id, k in tqdm(zip(lt_net_df[\"id\"], lt_net_df[\"k\"])):\n",
    "    name = f\"network_{id}_{k}\"\n",
    "    for B in large_B:\n",
    "        # Set models directory\n",
    "        # Optimal model\n",
    "        opt_model_dir = os.path.join(opt_models_dir, f\"Model_{B}{tag}\")\n",
    "        opt_json = load_json(name, opt_model_dir)\n",
    "        opt_obj = opt_json[\"ObjVal\"]\n",
    "        opt_time = opt_json[\"Runtime\"]\n",
    "        # Decision tree model\n",
    "        dt_model_dir = os.path.join(dt_models_dir, f\"Model_{B}{tag}\")\n",
    "        dt_json = load_json(name, dt_model_dir)\n",
    "        dt_obj = dt_json[\"ObjVal\"]\n",
    "        dt_time = dt_json[\"Runtime\"]\n",
    "        # Random forest model\n",
    "        rf_model_dir = os.path.join(rf_models_dir, f\"Model_{B}{tag}\")\n",
    "        rf_json = load_json(name, rf_model_dir)\n",
    "        rf_obj = rf_json[\"ObjVal\"]\n",
    "        rf_time = rf_json[\"Runtime\"]\n",
    "        # Append results\n",
    "        vals.append([id, k, B, opt_obj, opt_time, dt_obj, dt_time, rf_obj, rf_time])\n",
    "large_df = pd.DataFrame(vals, columns=cols)\n",
    "large_df = large_df.sort_values(by=[\"id\", f\"B_{tag}\", \"k\"])\n",
    "large_df[f\"Opt_{tag}\"] = large_df[f\"Opt_{tag}\"].replace(0, None) # Replace zero values with a NaN to avoid division by zero\n",
    "large_df[f\"Gap_dt_{tag}\"] = (large_df[f\"ObjVal_dt_{tag}\"] - large_df[f\"Opt_{tag}\"]) / large_df[f\"Opt_{tag}\"] * 100\n",
    "large_df[f\"Gap_rf_{tag}\"] = (large_df[f\"ObjVal_rf_{tag}\"] - large_df[f\"Opt_{tag}\"]) / large_df[f\"Opt_{tag}\"] * 100\n",
    "large_df.round(2).to_csv(f\"Results/LargeTestResults_{tag}.csv\", index=False)"
   ]
  },
  {
   "cell_type": "code",
   "execution_count": null,
   "metadata": {},
   "outputs": [],
   "source": []
  },
  {
   "cell_type": "code",
   "execution_count": null,
   "metadata": {},
   "outputs": [],
   "source": []
  }
 ],
 "metadata": {
  "kernelspec": {
   "display_name": "py-gurobi",
   "language": "python",
   "name": "python3"
  },
  "language_info": {
   "codemirror_mode": {
    "name": "ipython",
    "version": 3
   },
   "file_extension": ".py",
   "mimetype": "text/x-python",
   "name": "python",
   "nbconvert_exporter": "python",
   "pygments_lexer": "ipython3",
   "version": "3.10.15"
  }
 },
 "nbformat": 4,
 "nbformat_minor": 2
}
