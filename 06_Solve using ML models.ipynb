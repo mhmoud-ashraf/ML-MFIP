{
 "cells": [
  {
   "cell_type": "code",
   "execution_count": 5,
   "metadata": {},
   "outputs": [],
   "source": [
    "import os\n",
    "import pandas as pd\n",
    "import networkx as nx\n",
    "from tqdm import tqdm"
   ]
  },
  {
   "cell_type": "code",
   "execution_count": 6,
   "metadata": {},
   "outputs": [],
   "source": [
    "from NetworkGen import *\n",
    "from GurobiSolver import *\n",
    "from GreedyInterdictAlg import *"
   ]
  },
  {
   "cell_type": "code",
   "execution_count": 7,
   "metadata": {},
   "outputs": [],
   "source": [
    "parent_dir = os.path.dirname(os.getcwd())"
   ]
  },
  {
   "cell_type": "markdown",
   "metadata": {},
   "source": [
    "# Test data sets"
   ]
  },
  {
   "cell_type": "markdown",
   "metadata": {},
   "source": [
    "## Decision tree model"
   ]
  },
  {
   "cell_type": "code",
   "execution_count": null,
   "metadata": {},
   "outputs": [],
   "source": [
    "# Initialize directories\n",
    "data = \"Test\"\n",
    "ml_alg = \"dt\"\n",
    "network_dir = os.path.join(parent_dir, \"Networks\", data)\n",
    "predictions_dir = os.path.join(parent_dir, \"Predictions\", ml_alg, data)\n",
    "models_dir = os.path.join(parent_dir, \"Models-ml\", ml_alg, data)\n",
    "os.makedirs(models_dir, exist_ok=True)"
   ]
  },
  {
   "cell_type": "markdown",
   "metadata": {},
   "source": [
    "### Arc interdiction costs are set to 1"
   ]
  },
  {
   "cell_type": "code",
   "execution_count": null,
   "metadata": {},
   "outputs": [],
   "source": [
    "unit_cost = True\n",
    "tag = \"U\""
   ]
  },
  {
   "cell_type": "code",
   "execution_count": null,
   "metadata": {},
   "outputs": [],
   "source": [
    "# Interdiction budget\n",
    "small_uc_B = [i for i in range(1, 9+1)]\n",
    "large_uc_B = [1, 10, 50, 100, 500, 1000, 2000, 2500, 3000]"
   ]
  },
  {
   "cell_type": "code",
   "execution_count": null,
   "metadata": {},
   "outputs": [],
   "source": [
    "# Solve instances\n",
    "for f in tqdm(os.listdir(network_dir)):\n",
    "    name, ext = f.split('.')\n",
    "    G = load_network(f\"{network_dir}/{name}\")\n",
    "    if name.split('_')[1] in map(str, [6, 7, 8]):\n",
    "        B_vals = large_uc_B\n",
    "    else:\n",
    "        B_vals = small_uc_B\n",
    "    for B in B_vals:\n",
    "        # Make directories\n",
    "        model_dir = os.path.join(models_dir, f\"Model_{B}{tag}\")\n",
    "        for format in [\"mps\", \"sol\", \"lp\", \"json\"]:\n",
    "            os.makedirs(f\"{model_dir}/{format}\", exist_ok=True)\n",
    "        # Find the interdicted arcs\n",
    "        interdicted_arcs = greedy_alg(G, f\"{predictions_dir}/{name}\", B, unit_cost, ml_alg)\n",
    "        # Solve the model\n",
    "        m = find_max_flow(G, name, model_dir, B, interdicted_arcs)"
   ]
  },
  {
   "cell_type": "markdown",
   "metadata": {},
   "source": [
    "### Arc interdiction costs are greater that or equal to 1"
   ]
  },
  {
   "cell_type": "code",
   "execution_count": null,
   "metadata": {},
   "outputs": [],
   "source": [
    "unit_cost = False\n",
    "tag = \"\""
   ]
  },
  {
   "cell_type": "code",
   "execution_count": null,
   "metadata": {},
   "outputs": [],
   "source": [
    "# Interdiction budget\n",
    "small_B = [5, 10, 20, 30, 40, 80, 120, 150, 200]\n",
    "large_B = [5, 100, 200, 500, 1000, 2000, 3000, 4000, 5000, 7500, 10000, 15000, 20000]"
   ]
  },
  {
   "cell_type": "code",
   "execution_count": null,
   "metadata": {},
   "outputs": [],
   "source": [
    "# Solve instances\n",
    "for f in tqdm(os.listdir(network_dir)):\n",
    "    name, ext = f.split('.')\n",
    "    G = load_network(f\"{network_dir}/{name}\")\n",
    "    if name.split('_')[1] in map(str, [6, 7, 8]):\n",
    "        B_vals = large_B\n",
    "    else:\n",
    "        B_vals = small_B\n",
    "    for B in B_vals:\n",
    "        # Make directories\n",
    "        model_dir = os.path.join(models_dir, f\"Model_{B}{tag}\")\n",
    "        for format in [\"mps\", \"sol\", \"lp\", \"json\"]:\n",
    "            os.makedirs(f\"{model_dir}/{format}\", exist_ok=True)\n",
    "        # Find the interdicted arcs\n",
    "        interdicted_arcs = greedy_alg(G, f\"{predictions_dir}/{name}\", B, unit_cost, ml_alg)\n",
    "        # Solve the model\n",
    "        m = find_max_flow(G, name, model_dir, B, interdicted_arcs)"
   ]
  },
  {
   "cell_type": "markdown",
   "metadata": {},
   "source": [
    "## Random forest model"
   ]
  },
  {
   "cell_type": "code",
   "execution_count": 4,
   "metadata": {},
   "outputs": [],
   "source": [
    "# Initialize directories\n",
    "data = \"Test\"\n",
    "ml_alg = \"rf\"\n",
    "network_dir = os.path.join(parent_dir, \"Networks\", data)\n",
    "predictions_dir = os.path.join(parent_dir, \"Predictions\", ml_alg, data)\n",
    "models_dir = os.path.join(parent_dir, \"Models-ml\", ml_alg, data)\n",
    "os.makedirs(models_dir, exist_ok=True)"
   ]
  },
  {
   "cell_type": "markdown",
   "metadata": {},
   "source": [
    "### Arc interdiction costs are set to 1"
   ]
  },
  {
   "cell_type": "code",
   "execution_count": null,
   "metadata": {},
   "outputs": [],
   "source": [
    "unit_cost = True\n",
    "tag = \"U\""
   ]
  },
  {
   "cell_type": "code",
   "execution_count": null,
   "metadata": {},
   "outputs": [],
   "source": [
    "# Interdiction budget\n",
    "small_uc_B = [i for i in range(1, 9+1)]\n",
    "large_uc_B = [1, 10, 50, 100, 500, 1000, 2000, 2500, 3000]"
   ]
  },
  {
   "cell_type": "code",
   "execution_count": null,
   "metadata": {},
   "outputs": [],
   "source": [
    "# Solve instances\n",
    "for f in tqdm(os.listdir(network_dir)):\n",
    "    name, ext = f.split('.')\n",
    "    G = load_network(f\"{network_dir}/{name}\")\n",
    "    if name.split('_')[1] in map(str, [6, 7, 8]):\n",
    "        B_vals = large_uc_B\n",
    "    else:\n",
    "        B_vals = small_uc_B\n",
    "    for B in B_vals:\n",
    "        # Make directories\n",
    "        model_dir = os.path.join(models_dir, f\"Model_{B}{tag}\")\n",
    "        for format in [\"mps\", \"sol\", \"lp\", \"json\"]:\n",
    "            os.makedirs(f\"{model_dir}/{format}\", exist_ok=True)\n",
    "        # Find the interdicted arcs\n",
    "        interdicted_arcs = greedy_alg(G, f\"{predictions_dir}/{name}\", B, unit_cost, ml_alg)\n",
    "        # Solve the model\n",
    "        m = find_max_flow(G, name, model_dir, B, interdicted_arcs)"
   ]
  },
  {
   "cell_type": "markdown",
   "metadata": {},
   "source": [
    "### Arc interdiction costs are greater that or equal to 1"
   ]
  },
  {
   "cell_type": "code",
   "execution_count": null,
   "metadata": {},
   "outputs": [],
   "source": [
    "unit_cost = False\n",
    "tag = \"\""
   ]
  },
  {
   "cell_type": "code",
   "execution_count": null,
   "metadata": {},
   "outputs": [],
   "source": [
    "# Interdiction budget\n",
    "small_B = [5, 10, 20, 30, 40, 80, 120, 150, 200]\n",
    "large_B = [5, 100, 200, 500, 1000, 2000, 3000, 4000, 5000, 7500, 10000, 15000, 20000]"
   ]
  },
  {
   "cell_type": "code",
   "execution_count": null,
   "metadata": {},
   "outputs": [],
   "source": [
    "# Solve instances\n",
    "for f in tqdm(os.listdir(network_dir)):\n",
    "    name, ext = f.split('.')\n",
    "    G = load_network(f\"{network_dir}/{name}\")\n",
    "    if name.split('_')[1] in map(str, [6, 7, 8]):\n",
    "        B_vals = large_B\n",
    "    else:\n",
    "        B_vals = small_B\n",
    "    for B in B_vals:\n",
    "        # Make directories\n",
    "        model_dir = os.path.join(models_dir, f\"Model_{B}{tag}\")\n",
    "        for format in [\"mps\", \"sol\", \"lp\", \"json\"]:\n",
    "            os.makedirs(f\"{model_dir}/{format}\", exist_ok=True)\n",
    "        # Find the interdicted arcs\n",
    "        interdicted_arcs = greedy_alg(G, f\"{predictions_dir}/{name}\", B, unit_cost, ml_alg)\n",
    "        # Solve the model\n",
    "        m = find_max_flow(G, name, model_dir, B, interdicted_arcs)"
   ]
  },
  {
   "cell_type": "code",
   "execution_count": null,
   "metadata": {},
   "outputs": [],
   "source": []
  },
  {
   "cell_type": "code",
   "execution_count": null,
   "metadata": {},
   "outputs": [],
   "source": []
  }
 ],
 "metadata": {
  "kernelspec": {
   "display_name": "py-gurobi",
   "language": "python",
   "name": "python3"
  },
  "language_info": {
   "codemirror_mode": {
    "name": "ipython",
    "version": 3
   },
   "file_extension": ".py",
   "mimetype": "text/x-python",
   "name": "python",
   "nbconvert_exporter": "python",
   "pygments_lexer": "ipython3",
   "version": "3.10.15"
  }
 },
 "nbformat": 4,
 "nbformat_minor": 2
}
