{
 "cells": [
  {
   "cell_type": "code",
   "execution_count": 2,
   "metadata": {},
   "outputs": [],
   "source": [
    "import os\n",
    "import random\n",
    "from tqdm import tqdm"
   ]
  },
  {
   "cell_type": "code",
   "execution_count": 3,
   "metadata": {},
   "outputs": [],
   "source": [
    "from NetworkGen import *"
   ]
  },
  {
   "cell_type": "code",
   "execution_count": 4,
   "metadata": {},
   "outputs": [],
   "source": [
    "parent_dir = os.path.dirname(os.getcwd())"
   ]
  },
  {
   "cell_type": "markdown",
   "metadata": {},
   "source": [
    "# Generate networks"
   ]
  },
  {
   "cell_type": "markdown",
   "metadata": {},
   "source": [
    "## Train"
   ]
  },
  {
   "cell_type": "code",
   "execution_count": null,
   "metadata": {},
   "outputs": [],
   "source": [
    "# Initialize directory to save network structures\n",
    "data = \"Train\"\n",
    "network_dir = os.path.join(parent_dir, \"Networks\", data)\n",
    "os.makedirs(network_dir, exist_ok=True)\n",
    "# Desired network structures\n",
    "train_networks = {1: [5, 10, 25, 1],\n",
    "                  3: [8, 27, 50, 1]}\n",
    "replications = {1: 10, 3: 10}"
   ]
  },
  {
   "cell_type": "code",
   "execution_count": null,
   "metadata": {},
   "outputs": [],
   "source": [
    "# Generate train networks\n",
    "for id, nNodes in tqdm(train_networks.items()):\n",
    "    for k in range(1, replications[id]+1):\n",
    "        G = hierarchical_network(nNodes, seed=10+k)\n",
    "        # Add edge attributes\n",
    "        random.seed(10+k)\n",
    "        c_u = 20\n",
    "        for u,v in G.edges:\n",
    "            G[u][v][\"c\"] = random.randint(1, 20)\n",
    "            G[u][v][\"b\"] = 1\n",
    "        save_network_structure(G, f\"{network_dir}/network_{id}_{k}\")"
   ]
  },
  {
   "cell_type": "markdown",
   "metadata": {},
   "source": [
    "## Test"
   ]
  },
  {
   "cell_type": "code",
   "execution_count": 5,
   "metadata": {},
   "outputs": [],
   "source": [
    "# Initialize directory to save network structures\n",
    "data = \"Test\"\n",
    "network_dir = os.path.join(parent_dir, \"Networks\", data)\n",
    "os.makedirs(network_dir, exist_ok=True)"
   ]
  },
  {
   "cell_type": "code",
   "execution_count": 6,
   "metadata": {},
   "outputs": [],
   "source": [
    "# Desired network structures and number of replications\n",
    "small_networks_h = {1: [5, 10, 25, 1],\n",
    "                    3: [8, 27, 50, 1],\n",
    "                    5: [30, 100, 450, 1]}\n",
    "large_networks_h = {6: [1000, 1500, 1500, 2000, 2500, 2500, 3000, 5000, 10000, 1],\n",
    "                    7: [2500, 3000, 3000, 4500, 4500, 7000, 7000, 10000, 15000, 1],\n",
    "                    8: [2500, 3000, 3000, 4500, 4500, 7000, 7000, 10000, 15000, 1]}\n",
    "networks_nh = {2: [5, 10, 25, 40, 1],\n",
    "               4: [12, 50, 200, 410, 1]}\n",
    "replications = {1: 10, 3: 10, 5: 10, 6: 1, 7: 1, 8: 1, 2: 10, 4: 10}"
   ]
  },
  {
   "cell_type": "code",
   "execution_count": 7,
   "metadata": {},
   "outputs": [],
   "source": [
    "# Arc flow capacity and interdiction cost\n",
    "large_networks_c = {0: (50,100), 1: (1,75), 2: (1,50), 3: (1,40), 4: (1,40), 5: (1,30), 6: (1,30), 7: (1,20), 8: (1,20), 9: (50,100)}\n",
    "large_networks_b = {0: (100,101), 1: (1,75), 2: (1,50), 3: (1,40), 4: (1,40), 5: (1,30), 6: (1,30), 7: (1,20), 8: (1,20), 9: (100,101)}"
   ]
  },
  {
   "cell_type": "code",
   "execution_count": 8,
   "metadata": {},
   "outputs": [],
   "source": [
    "# Generate small heierarchical networks\n",
    "for id, nNodes in tqdm(small_networks_h.items()):\n",
    "    for k in range(1, replications[id]+1):\n",
    "        G = hierarchical_network(nNodes, seed=k)\n",
    "        # Add edge attributes\n",
    "        random.seed(k)\n",
    "        if k <= 5:\n",
    "            c_u = 20\n",
    "        else:\n",
    "            c_u = 50\n",
    "        for u,v in G.edges:\n",
    "            G[u][v][\"c\"] = random.randint(1, c_u)\n",
    "            G[u][v][\"b\"] = random.randint(1, 50)\n",
    "        save_network_structure(G, f\"{network_dir}/network_{id}_{k}\")"
   ]
  },
  {
   "cell_type": "code",
   "execution_count": 9,
   "metadata": {},
   "outputs": [],
   "source": [
    "# Generate large heierarchical networks\n",
    "for id, nNodes in tqdm(large_networks_h.items()):\n",
    "    for k in range(1, replications[id]+1):\n",
    "        G = hierarchical_network(nNodes, seed=k)# Add edge attributes\n",
    "        random.seed(k)\n",
    "        for u,v in G.edges:\n",
    "            u_level = G.nodes[u]['subset']\n",
    "            G[u][v][\"c\"] = random.randint(large_networks_c[u_level][0], large_networks_c[u_level][1])\n",
    "            G[u][v][\"b\"] = random.randint(large_networks_b[u_level][0], large_networks_b[u_level][1])\n",
    "        save_network_structure(G, f\"{network_dir}/network_{id}_{k}\")"
   ]
  },
  {
   "cell_type": "code",
   "execution_count": 10,
   "metadata": {},
   "outputs": [],
   "source": [
    "# Generate large heierarchical networks\n",
    "for id, nNodes in tqdm(networks_nh.items()):\n",
    "    for k in range(1, replications[id]+1):\n",
    "        G = non_hierarchical_network(nNodes, seed=k)\n",
    "        # Add edge attributes\n",
    "        random.seed(k)\n",
    "        if k <= 5:\n",
    "            c_u = 20\n",
    "        else:\n",
    "            c_u = 50\n",
    "        for u,v in G.edges:\n",
    "            G[u][v][\"c\"] = random.randint(1, c_u)\n",
    "            G[u][v][\"b\"] = random.randint(1, 50)\n",
    "        save_network_structure(G, f\"{network_dir}/network_{id}_{k}\")"
   ]
  },
  {
   "cell_type": "code",
   "execution_count": null,
   "metadata": {},
   "outputs": [],
   "source": []
  }
 ],
 "metadata": {
  "kernelspec": {
   "display_name": "py-gurobi",
   "language": "python",
   "name": "python3"
  },
  "language_info": {
   "codemirror_mode": {
    "name": "ipython",
    "version": 3
   },
   "file_extension": ".py",
   "mimetype": "text/x-python",
   "name": "python",
   "nbconvert_exporter": "python",
   "pygments_lexer": "ipython3",
   "version": "3.10.15"
  }
 },
 "nbformat": 4,
 "nbformat_minor": 2
}
