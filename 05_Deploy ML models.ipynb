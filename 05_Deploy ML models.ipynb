{
 "cells": [
  {
   "cell_type": "code",
   "execution_count": 108,
   "metadata": {},
   "outputs": [],
   "source": [
    "import os\n",
    "import pandas as pd\n",
    "from joblib import load"
   ]
  },
  {
   "cell_type": "code",
   "execution_count": 109,
   "metadata": {},
   "outputs": [],
   "source": [
    "# Initialize directories\n",
    "parent_dir = os.path.dirname(os.getcwd())\n",
    "models_dir = os.path.join(parent_dir, \"Trained Models\")\n",
    "data_dir = os.path.join(parent_dir, \"Data\")\n",
    "predictions_dir = os.path.join(parent_dir, \"Predictions\")\n",
    "os.makedirs(predictions_dir, exist_ok=True)"
   ]
  },
  {
   "cell_type": "markdown",
   "metadata": {},
   "source": [
    "# Import ML models"
   ]
  },
  {
   "cell_type": "code",
   "execution_count": 110,
   "metadata": {},
   "outputs": [],
   "source": [
    "# Decision tree model\n",
    "dt = load(os.path.join(models_dir, \"dt.joblib\"))\n",
    "# Random forest model\n",
    "rf = load(os.path.join(models_dir, \"rf.joblib\"))"
   ]
  },
  {
   "cell_type": "markdown",
   "metadata": {},
   "source": [
    "# Predict using train data"
   ]
  },
  {
   "cell_type": "markdown",
   "metadata": {},
   "source": [
    "## Train data preparation"
   ]
  },
  {
   "cell_type": "code",
   "execution_count": 111,
   "metadata": {},
   "outputs": [
    {
     "data": {
      "text/html": [
       "<div>\n",
       "<style scoped>\n",
       "    .dataframe tbody tr th:only-of-type {\n",
       "        vertical-align: middle;\n",
       "    }\n",
       "\n",
       "    .dataframe tbody tr th {\n",
       "        vertical-align: top;\n",
       "    }\n",
       "\n",
       "    .dataframe thead th {\n",
       "        text-align: right;\n",
       "    }\n",
       "</style>\n",
       "<table border=\"1\" class=\"dataframe\">\n",
       "  <thead>\n",
       "    <tr style=\"text-align: right;\">\n",
       "      <th></th>\n",
       "      <th>id</th>\n",
       "      <th>k</th>\n",
       "      <th>arc</th>\n",
       "      <th>tail_in_degree</th>\n",
       "      <th>tail_out_degree</th>\n",
       "      <th>head_in_degree</th>\n",
       "      <th>head_out_degree</th>\n",
       "      <th>d_s</th>\n",
       "      <th>d_t</th>\n",
       "      <th>C_r</th>\n",
       "      <th>F_r</th>\n",
       "    </tr>\n",
       "  </thead>\n",
       "  <tbody>\n",
       "    <tr>\n",
       "      <th>0</th>\n",
       "      <td>1</td>\n",
       "      <td>1</td>\n",
       "      <td>(0,1)</td>\n",
       "      <td>1</td>\n",
       "      <td>5</td>\n",
       "      <td>1</td>\n",
       "      <td>2</td>\n",
       "      <td>0.0</td>\n",
       "      <td>1.0</td>\n",
       "      <td>0.75</td>\n",
       "      <td>21.126761</td>\n",
       "    </tr>\n",
       "    <tr>\n",
       "      <th>1</th>\n",
       "      <td>1</td>\n",
       "      <td>1</td>\n",
       "      <td>(0,2)</td>\n",
       "      <td>1</td>\n",
       "      <td>5</td>\n",
       "      <td>1</td>\n",
       "      <td>2</td>\n",
       "      <td>0.0</td>\n",
       "      <td>1.0</td>\n",
       "      <td>0.90</td>\n",
       "      <td>22.535211</td>\n",
       "    </tr>\n",
       "    <tr>\n",
       "      <th>2</th>\n",
       "      <td>1</td>\n",
       "      <td>1</td>\n",
       "      <td>(0,3)</td>\n",
       "      <td>1</td>\n",
       "      <td>5</td>\n",
       "      <td>1</td>\n",
       "      <td>2</td>\n",
       "      <td>0.0</td>\n",
       "      <td>1.0</td>\n",
       "      <td>0.75</td>\n",
       "      <td>21.126761</td>\n",
       "    </tr>\n",
       "    <tr>\n",
       "      <th>3</th>\n",
       "      <td>1</td>\n",
       "      <td>1</td>\n",
       "      <td>(0,4)</td>\n",
       "      <td>1</td>\n",
       "      <td>5</td>\n",
       "      <td>1</td>\n",
       "      <td>2</td>\n",
       "      <td>0.0</td>\n",
       "      <td>1.0</td>\n",
       "      <td>0.75</td>\n",
       "      <td>12.676056</td>\n",
       "    </tr>\n",
       "    <tr>\n",
       "      <th>4</th>\n",
       "      <td>1</td>\n",
       "      <td>1</td>\n",
       "      <td>(0,5)</td>\n",
       "      <td>1</td>\n",
       "      <td>5</td>\n",
       "      <td>1</td>\n",
       "      <td>2</td>\n",
       "      <td>0.0</td>\n",
       "      <td>1.0</td>\n",
       "      <td>0.85</td>\n",
       "      <td>22.535211</td>\n",
       "    </tr>\n",
       "  </tbody>\n",
       "</table>\n",
       "</div>"
      ],
      "text/plain": [
       "   id  k    arc  tail_in_degree  tail_out_degree  head_in_degree  \\\n",
       "0   1  1  (0,1)               1                5               1   \n",
       "1   1  1  (0,2)               1                5               1   \n",
       "2   1  1  (0,3)               1                5               1   \n",
       "3   1  1  (0,4)               1                5               1   \n",
       "4   1  1  (0,5)               1                5               1   \n",
       "\n",
       "   head_out_degree  d_s  d_t   C_r        F_r  \n",
       "0                2  0.0  1.0  0.75  21.126761  \n",
       "1                2  0.0  1.0  0.90  22.535211  \n",
       "2                2  0.0  1.0  0.75  21.126761  \n",
       "3                2  0.0  1.0  0.75  12.676056  \n",
       "4                2  0.0  1.0  0.85  22.535211  "
      ]
     },
     "execution_count": 111,
     "metadata": {},
     "output_type": "execute_result"
    }
   ],
   "source": [
    "# Load train data set\n",
    "train = pd.read_csv(os.path.join(data_dir, \"train.csv\"))\n",
    "train.head()"
   ]
  },
  {
   "cell_type": "code",
   "execution_count": 112,
   "metadata": {},
   "outputs": [],
   "source": [
    "# Drop the first three columns (id, k, and arc) as well as the target variable (F_r)\n",
    "X_train = train.drop(columns=[\"id\", \"k\", \"arc\", \"F_r\"])"
   ]
  },
  {
   "cell_type": "markdown",
   "metadata": {},
   "source": [
    "## Predict the target variable (reduction percentage in max flow)"
   ]
  },
  {
   "cell_type": "markdown",
   "metadata": {},
   "source": [
    "### Decision tree model\n"
   ]
  },
  {
   "cell_type": "code",
   "execution_count": 113,
   "metadata": {},
   "outputs": [],
   "source": [
    "# Initialize directories\n",
    "train_dir = os.path.join(predictions_dir, \"dt\", \"Train\")\n",
    "os.makedirs(train_dir, exist_ok=True)"
   ]
  },
  {
   "cell_type": "code",
   "execution_count": 114,
   "metadata": {},
   "outputs": [],
   "source": [
    "# Predictions\n",
    "train_dt = train.copy()\n",
    "train_dt[\"dt\"] = dt.predict(X_train)"
   ]
  },
  {
   "cell_type": "code",
   "execution_count": 115,
   "metadata": {},
   "outputs": [],
   "source": [
    "# Save the predictions for each network\n",
    "groups = train_dt.groupby([\"id\", \"k\"])\n",
    "for (id, k), group in groups:\n",
    "    group.to_csv(os.path.join(train_dir, f\"network_{id}_{k}.csv\"), index=False)"
   ]
  },
  {
   "cell_type": "markdown",
   "metadata": {},
   "source": [
    "### Random forest model"
   ]
  },
  {
   "cell_type": "code",
   "execution_count": 116,
   "metadata": {},
   "outputs": [],
   "source": [
    "# Initialize directories\n",
    "train_dir = os.path.join(predictions_dir, \"rf\", \"Train\")\n",
    "os.makedirs(train_dir, exist_ok=True)"
   ]
  },
  {
   "cell_type": "code",
   "execution_count": 117,
   "metadata": {},
   "outputs": [],
   "source": [
    "# Predictions\n",
    "train_rf = train.copy()\n",
    "train_rf[\"rf\"] = rf.predict(X_train)"
   ]
  },
  {
   "cell_type": "code",
   "execution_count": 118,
   "metadata": {},
   "outputs": [],
   "source": [
    "# Save the predictions for each network\n",
    "groups = train_rf.groupby([\"id\", \"k\"])\n",
    "for (id, k), group in groups:\n",
    "    group.to_csv(os.path.join(train_dir, f\"network_{id}_{k}.csv\"), index=False)"
   ]
  },
  {
   "cell_type": "markdown",
   "metadata": {},
   "source": [
    "# Predict using test data"
   ]
  },
  {
   "cell_type": "markdown",
   "metadata": {},
   "source": [
    "## Test data preparation"
   ]
  },
  {
   "cell_type": "code",
   "execution_count": 119,
   "metadata": {},
   "outputs": [
    {
     "data": {
      "text/html": [
       "<div>\n",
       "<style scoped>\n",
       "    .dataframe tbody tr th:only-of-type {\n",
       "        vertical-align: middle;\n",
       "    }\n",
       "\n",
       "    .dataframe tbody tr th {\n",
       "        vertical-align: top;\n",
       "    }\n",
       "\n",
       "    .dataframe thead th {\n",
       "        text-align: right;\n",
       "    }\n",
       "</style>\n",
       "<table border=\"1\" class=\"dataframe\">\n",
       "  <thead>\n",
       "    <tr style=\"text-align: right;\">\n",
       "      <th></th>\n",
       "      <th>id</th>\n",
       "      <th>k</th>\n",
       "      <th>arc</th>\n",
       "      <th>tail_in_degree</th>\n",
       "      <th>tail_out_degree</th>\n",
       "      <th>head_in_degree</th>\n",
       "      <th>head_out_degree</th>\n",
       "      <th>d_s</th>\n",
       "      <th>d_t</th>\n",
       "      <th>C_r</th>\n",
       "    </tr>\n",
       "  </thead>\n",
       "  <tbody>\n",
       "    <tr>\n",
       "      <th>0</th>\n",
       "      <td>1</td>\n",
       "      <td>1</td>\n",
       "      <td>(0,1)</td>\n",
       "      <td>1</td>\n",
       "      <td>5</td>\n",
       "      <td>1</td>\n",
       "      <td>2</td>\n",
       "      <td>0.0</td>\n",
       "      <td>1.0</td>\n",
       "      <td>0.25</td>\n",
       "    </tr>\n",
       "    <tr>\n",
       "      <th>1</th>\n",
       "      <td>1</td>\n",
       "      <td>1</td>\n",
       "      <td>(0,2)</td>\n",
       "      <td>1</td>\n",
       "      <td>5</td>\n",
       "      <td>1</td>\n",
       "      <td>2</td>\n",
       "      <td>0.0</td>\n",
       "      <td>1.0</td>\n",
       "      <td>0.15</td>\n",
       "    </tr>\n",
       "    <tr>\n",
       "      <th>2</th>\n",
       "      <td>1</td>\n",
       "      <td>1</td>\n",
       "      <td>(0,3)</td>\n",
       "      <td>1</td>\n",
       "      <td>5</td>\n",
       "      <td>1</td>\n",
       "      <td>2</td>\n",
       "      <td>0.0</td>\n",
       "      <td>1.0</td>\n",
       "      <td>0.20</td>\n",
       "    </tr>\n",
       "    <tr>\n",
       "      <th>3</th>\n",
       "      <td>1</td>\n",
       "      <td>1</td>\n",
       "      <td>(0,4)</td>\n",
       "      <td>1</td>\n",
       "      <td>5</td>\n",
       "      <td>1</td>\n",
       "      <td>2</td>\n",
       "      <td>0.0</td>\n",
       "      <td>1.0</td>\n",
       "      <td>0.75</td>\n",
       "    </tr>\n",
       "    <tr>\n",
       "      <th>4</th>\n",
       "      <td>1</td>\n",
       "      <td>1</td>\n",
       "      <td>(0,5)</td>\n",
       "      <td>1</td>\n",
       "      <td>5</td>\n",
       "      <td>1</td>\n",
       "      <td>2</td>\n",
       "      <td>0.0</td>\n",
       "      <td>1.0</td>\n",
       "      <td>0.65</td>\n",
       "    </tr>\n",
       "  </tbody>\n",
       "</table>\n",
       "</div>"
      ],
      "text/plain": [
       "   id  k    arc  tail_in_degree  tail_out_degree  head_in_degree  \\\n",
       "0   1  1  (0,1)               1                5               1   \n",
       "1   1  1  (0,2)               1                5               1   \n",
       "2   1  1  (0,3)               1                5               1   \n",
       "3   1  1  (0,4)               1                5               1   \n",
       "4   1  1  (0,5)               1                5               1   \n",
       "\n",
       "   head_out_degree  d_s  d_t   C_r  \n",
       "0                2  0.0  1.0  0.25  \n",
       "1                2  0.0  1.0  0.15  \n",
       "2                2  0.0  1.0  0.20  \n",
       "3                2  0.0  1.0  0.75  \n",
       "4                2  0.0  1.0  0.65  "
      ]
     },
     "execution_count": 119,
     "metadata": {},
     "output_type": "execute_result"
    }
   ],
   "source": [
    "# Load test data set\n",
    "test = pd.read_csv(os.path.join(data_dir, \"test.csv\"))\n",
    "test.head()"
   ]
  },
  {
   "cell_type": "code",
   "execution_count": 120,
   "metadata": {},
   "outputs": [],
   "source": [
    "# Drop the first three columns (id, k, and arc)\n",
    "X_test = test.drop(columns=[\"id\", \"k\", \"arc\"])"
   ]
  },
  {
   "cell_type": "markdown",
   "metadata": {},
   "source": [
    "# Predict the target variable (reduction percentage in max flow)"
   ]
  },
  {
   "cell_type": "markdown",
   "metadata": {},
   "source": [
    "### Decision tree model\n"
   ]
  },
  {
   "cell_type": "code",
   "execution_count": 121,
   "metadata": {},
   "outputs": [],
   "source": [
    "# Initialize directories\n",
    "test_dir = os.path.join(predictions_dir, \"dt\", \"Test\")\n",
    "os.makedirs(test_dir, exist_ok=True)"
   ]
  },
  {
   "cell_type": "code",
   "execution_count": 122,
   "metadata": {},
   "outputs": [],
   "source": [
    "# Predictions\n",
    "test_dt = test.copy()\n",
    "test_dt[\"dt\"] = dt.predict(X_test)"
   ]
  },
  {
   "cell_type": "code",
   "execution_count": 123,
   "metadata": {},
   "outputs": [],
   "source": [
    "# Save the predictions for each network\n",
    "groups = test_dt.groupby([\"id\", \"k\"])\n",
    "for (id, k), group in groups:\n",
    "    group.to_csv(os.path.join(test_dir, f\"network_{id}_{k}.csv\"), index=False)"
   ]
  },
  {
   "cell_type": "markdown",
   "metadata": {},
   "source": [
    "### Random forest model"
   ]
  },
  {
   "cell_type": "markdown",
   "metadata": {},
   "source": [
    "### Decision tree model\n"
   ]
  },
  {
   "cell_type": "code",
   "execution_count": 124,
   "metadata": {},
   "outputs": [],
   "source": [
    "# Initialize directories\n",
    "train_dir = os.path.join(predictions_dir, \"dt\", \"Train\")\n",
    "os.makedirs(train_dir, exist_ok=True)"
   ]
  },
  {
   "cell_type": "code",
   "execution_count": 125,
   "metadata": {},
   "outputs": [],
   "source": [
    "# Predictions\n",
    "train_dt = train.copy()\n",
    "train_dt[\"dt\"] = dt.predict(X_train)"
   ]
  },
  {
   "cell_type": "code",
   "execution_count": 126,
   "metadata": {},
   "outputs": [],
   "source": [
    "# Save the predictions for each network\n",
    "groups = train_dt.groupby([\"id\", \"k\"])\n",
    "for (id, k), group in groups:\n",
    "    group.to_csv(os.path.join(train_dir, f\"network_{id}_{k}.csv\"), index=False)"
   ]
  },
  {
   "cell_type": "markdown",
   "metadata": {},
   "source": [
    "### Random forest model"
   ]
  },
  {
   "cell_type": "code",
   "execution_count": 127,
   "metadata": {},
   "outputs": [],
   "source": [
    "# Initialize directories\n",
    "train_dir = os.path.join(predictions_dir, \"rf\", \"Train\")\n",
    "os.makedirs(train_dir, exist_ok=True)"
   ]
  },
  {
   "cell_type": "code",
   "execution_count": 128,
   "metadata": {},
   "outputs": [],
   "source": [
    "# Predictions\n",
    "train_rf = train.copy()\n",
    "train_rf[\"rf\"] = rf.predict(X_train)"
   ]
  },
  {
   "cell_type": "code",
   "execution_count": 129,
   "metadata": {},
   "outputs": [],
   "source": [
    "# Save the predictions for each network\n",
    "groups = train_rf.groupby([\"id\", \"k\"])\n",
    "for (id, k), group in groups:\n",
    "    group.to_csv(os.path.join(train_dir, f\"network_{id}_{k}.csv\"), index=False)"
   ]
  },
  {
   "cell_type": "code",
   "execution_count": 130,
   "metadata": {},
   "outputs": [],
   "source": [
    "# Initialize directories\n",
    "test_dir = os.path.join(predictions_dir, \"rf\", \"Test\")\n",
    "os.makedirs(test_dir, exist_ok=True)"
   ]
  },
  {
   "cell_type": "code",
   "execution_count": 131,
   "metadata": {},
   "outputs": [],
   "source": [
    "# Predictions\n",
    "test_rf = test.copy()\n",
    "test_rf[\"rf\"] = rf.predict(X_test)"
   ]
  },
  {
   "cell_type": "code",
   "execution_count": 132,
   "metadata": {},
   "outputs": [],
   "source": [
    "# Save the predictions for each network\n",
    "groups = test_rf.groupby([\"id\", \"k\"])\n",
    "for (id, k), group in groups:\n",
    "    group.to_csv(os.path.join(test_dir, f\"network_{id}_{k}.csv\"), index=False)"
   ]
  },
  {
   "cell_type": "code",
   "execution_count": null,
   "metadata": {},
   "outputs": [],
   "source": []
  },
  {
   "cell_type": "code",
   "execution_count": null,
   "metadata": {},
   "outputs": [],
   "source": []
  }
 ],
 "metadata": {
  "kernelspec": {
   "display_name": "py-tf",
   "language": "python",
   "name": "python3"
  },
  "language_info": {
   "codemirror_mode": {
    "name": "ipython",
    "version": 3
   },
   "file_extension": ".py",
   "mimetype": "text/x-python",
   "name": "python",
   "nbconvert_exporter": "python",
   "pygments_lexer": "ipython3",
   "version": "3.9.17"
  }
 },
 "nbformat": 4,
 "nbformat_minor": 2
}
